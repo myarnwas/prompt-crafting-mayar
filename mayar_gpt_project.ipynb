{
  "nbformat": 4,
  "nbformat_minor": 0,
  "metadata": {
    "colab": {
      "provenance": [],
      "authorship_tag": "ABX9TyMXJ2y1yvB1FrwcFPI2k30F",
      "include_colab_link": true
    },
    "kernelspec": {
      "name": "python3",
      "display_name": "Python 3"
    },
    "language_info": {
      "name": "python"
    }
  },
  "cells": [
    {
      "cell_type": "markdown",
      "metadata": {
        "id": "view-in-github",
        "colab_type": "text"
      },
      "source": [
        "<a href=\"https://colab.research.google.com/github/myarnwas/prompt-crafting-mayar/blob/main/mayar_gpt_project.ipynb\" target=\"_parent\"><img src=\"https://colab.research.google.com/assets/colab-badge.svg\" alt=\"Open In Colab\"/></a>"
      ]
    },
    {
      "cell_type": "markdown",
      "metadata": {
        "id": "pULNH2ZgLv4E"
      },
      "source": [
        "# 1. Function Calling"
      ]
    },
    {
      "cell_type": "markdown",
      "metadata": {
        "id": "I5hYdP8_Lv4E"
      },
      "source": [
        "## 1.1. Provider Agnostic Function Calling"
      ]
    },
    {
      "cell_type": "markdown",
      "metadata": {
        "id": "oWTt8S6wLv4E"
      },
      "source": [
        "### Note :\n",
        "Any LLm could be used here. But for simplification, we will use OpenAI's LLMs. However, we will only use the simple text completion API.\n",
        "\n",
        "---"
      ]
    },
    {
      "cell_type": "markdown",
      "metadata": {
        "id": "UxzAwUjVLv4E"
      },
      "source": [
        "First of all, if we want to use OpenAI python library, we need to install it. We can do this by running the following command in our terminal:\n",
        "\n",
        "```bash\n",
        "pip install openai\n",
        "```\n",
        "\n",
        "Or simply running the next cell in this notebook:\n",
        "- `%pip install openai` : install openai for the active python kernel\n",
        "- `-q` : quiet mode, suppresses output"
      ]
    },
    {
      "cell_type": "markdown",
      "metadata": {
        "id": "M0fUrkwwLv4F"
      },
      "source": [
        "### 1.1.a Iinitialization"
      ]
    },
    {
      "cell_type": "code",
      "execution_count": null,
      "metadata": {
        "id": "pRJBK6knLv4F"
      },
      "outputs": [],
      "source": [
        "%pip install openai python-dotenv -q"
      ]
    },
    {
      "cell_type": "code",
      "execution_count": null,
      "metadata": {
        "id": "yQzl9fUuLv4G",
        "outputId": "f4057db2-a50e-4d4e-887b-fd58a87abf9f",
        "colab": {
          "base_uri": "https://localhost:8080/"
        }
      },
      "outputs": [
        {
          "output_type": "execute_result",
          "data": {
            "text/plain": [
              "False"
            ]
          },
          "metadata": {},
          "execution_count": 2
        }
      ],
      "source": [
        "import os\n",
        "\n",
        "from dotenv import load_dotenv\n",
        "from getpass import getpass\n",
        "from openai import OpenAI\n",
        "\n",
        "load_dotenv()                                   # This loads the environment variables. Make sure to have a .env file with your OpenAI API key."
      ]
    },
    {
      "cell_type": "code",
      "execution_count": null,
      "metadata": {
        "id": "vyRG6wAwLv4G",
        "outputId": "19c7f5dc-f2d5-47d1-ecf9-fa13ba841153",
        "colab": {
          "base_uri": "https://localhost:8080/"
        }
      },
      "outputs": [
        {
          "name": "stdout",
          "output_type": "stream",
          "text": [
            "OpenAI API key not found in environment variables. Please set it in a .env file.\n",
            "Enter your OpenAI API key: ··········\n"
          ]
        }
      ],
      "source": [
        "if os.getenv(\"OPENAI_API_KEY\"):\n",
        "    print(\"OpenAI API key found in environment variables.\")\n",
        "    OPENAI_API_KEY = os.getenv(\"OPENAI_API_KEY\")\n",
        "else :\n",
        "    print(\"OpenAI API key not found in environment variables. Please set it in a .env file.\")\n",
        "    OPENAI_API_KEY = getpass(\"Enter your OpenAI API key: \")\n",
        "client = OpenAI(api_key=OPENAI_API_KEY)"
      ]
    },
    {
      "cell_type": "markdown",
      "metadata": {
        "id": "b2mI47GuLv4G"
      },
      "source": [
        "#### utils"
      ]
    },
    {
      "cell_type": "code",
      "execution_count": null,
      "metadata": {
        "id": "sZXe3ZJoLv4G"
      },
      "outputs": [],
      "source": [
        "# ---------------------------------------------------------------------------- #\n",
        "#            Change these values, they are initially set fot o4-mini           #\n",
        "# ---------------------------------------------------------------------------- #\n",
        "# Add input tokens cost\n",
        "PER_MILLION_INPUT_TOKENS = 1.1      # 1.1 USD per million input tokens\n",
        "# Add output tokens cost\n",
        "PER_MILLION_OUTPUT_TOKENS = 4.4      # 4.4 USD per million output tokens\n",
        "\n",
        "def estimate_cost(response, input_token_cost=PER_MILLION_INPUT_TOKENS, output_token_cost=PER_MILLION_OUTPUT_TOKENS):\n",
        "    total_cost = 0\n",
        "\n",
        "    total_cost += (response.usage.input_tokens / 1_000_000) * input_token_cost\n",
        "    total_cost += (response.usage.output_tokens / 1_000_000) * output_token_cost\n",
        "\n",
        "    # print(f\"Request cost: ${total_cost:.4f}\")\n",
        "    print(f\"\\033[1mRequest cost: \\033[94m{total_cost:.4f} $\\033[0m\")"
      ]
    },
    {
      "cell_type": "code",
      "execution_count": null,
      "metadata": {
        "id": "dd1eArmeLv4H"
      },
      "outputs": [],
      "source": [
        "import json\n",
        "import re\n",
        "\n",
        "def extract_info_from_response(resopnse):\n",
        "    # answer is between ```json ... ```\n",
        "    json_string = re.search(r'```json(.*?)```', resopnse.output[0].content[0].text, re.DOTALL).group(1)\n",
        "    json_string = json_string.strip()   # Remove any trailing whitespace\n",
        "    json_answer = json.loads(json_string)             # This will raise an error if the JSON is not valid. Maybe you should optimize the prompt or simply retry the request.\n",
        "    return json_answer"
      ]
    },
    {
      "cell_type": "markdown",
      "metadata": {
        "id": "20lIXLXqLv4H"
      },
      "source": [
        "### 1.1.b Function and Template definition"
      ]
    },
    {
      "cell_type": "code",
      "execution_count": null,
      "metadata": {
        "id": "mGA8530aLv4H"
      },
      "outputs": [],
      "source": [
        "def get_calendar(user_id):\n",
        "    \"\"\"\n",
        "    This function gets the calendar of a user.\n",
        "    :param user_id: The ID of the user.\n",
        "    :return: The calendar of the user in a dictionary format.\n",
        "    \"\"\"\n",
        "    # For simplification, we are using a simple static calendar.\n",
        "    if user_id == 332:\n",
        "        calendar = {\n",
        "            \"Today\" : {\n",
        "                \"09:00-10:00\" : \"Meeting with Client\",\n",
        "                \"10:00-16:00\" : \"Work on Project\",\n",
        "                \"16:00-17:00\" : \"Call with Team\"\n",
        "            },\n",
        "            \"Tomorrow\" : {\n",
        "                \"10:00-11:00\" : \"Free for meetings\",\n",
        "                \"14:00-16:00\" : \"Work on Project\",\n",
        "                \"16:00-17:00\" : \"Call with Team\"\n",
        "            },\n",
        "        }\n",
        "    else:\n",
        "        calendar = {\n",
        "            \"Today\" : {\n",
        "                \"09:00-10:00\" : \"Meeting with Client\",\n",
        "                \"10:00-16:00\" : \"Work on Project\",\n",
        "                \"16:00-17:00\" : \"Call with Team\"\n",
        "            },\n",
        "            \"Tomorrow\" : {\n",
        "                \"09:00-16:00\" : \"Work on Project\",\n",
        "                \"16:00-17:00\" : \"Call with Team\"\n",
        "            },\n",
        "        }\n",
        "    return calendar\n",
        "\n",
        "def schedule_meeting(user_id, customer_id, start_time, end_time):\n",
        "    \"\"\"\n",
        "    This function schedules a meeting for a user.\n",
        "    :param user_id: The ID of the user.\n",
        "    :param customer_id: The ID of the customer.\n",
        "    :param start_time: The start time of the meeting.\n",
        "    :param end_time: The end time of the meeting.\n",
        "    :return: A confirmation message.\n",
        "    \"\"\"\n",
        "    # Some code here that  schedules a meeting.\n",
        "    ...\n",
        "    # For simplification, we are just returning a confirmation message.\n",
        "    print(f\"Meeting scheduled for user {user_id} with customer {customer_id} from {start_time} to {end_time}.\")\n",
        "    return True\n",
        "\n",
        "available_tools = {\n",
        "    \"get_calendar\": get_calendar,\n",
        "    \"schedule_meeting\": schedule_meeting\n",
        "}"
      ]
    },
    {
      "cell_type": "code",
      "execution_count": null,
      "metadata": {
        "id": "qg5S83Q6Lv4H"
      },
      "outputs": [],
      "source": [
        "# Tools list the functions that can be called by the assistant.\n",
        "TOOLS = \"\"\"\n",
        "1. Function: `get_calendar`\n",
        "   Description: Given a user ID, it returns the user's availability.\n",
        "   Parameters:\n",
        "   - `user_id` (int): The ID of the user whose calendar should be retrieved.\n",
        "\n",
        "2. Function: `schedule_meeting`\n",
        "   Description: Schedules a meeting between a user and a customer.\n",
        "   Parameters:\n",
        "   - `user_id` (int): The ID of the user to schedule the meeting with.\n",
        "   - `customer_id` (int): The ID of the customer.\n",
        "   - `start_time` (string, ISO 8601 format): The start datetime of the meeting.\n",
        "   - `end_time` (string, ISO 8601 format): The end datetime of the meeting.\n",
        "\"\"\"\n",
        "\n",
        "# Instructions are here to force the model to normalize the output to a specific format.\n",
        "INSTRUCTIONS = \"\"\"\n",
        "You must decide how to handle the input request. You have two options:\n",
        "\n",
        "### Option 1: Call a Function\n",
        "If the task requires using one of the provided functions, respond **only** with the following JSON format:\n",
        "\n",
        "```json\n",
        "{\n",
        "  \"function_call\": {\n",
        "    \"name\": \"<function_name>\",\n",
        "    \"arguments\": {\n",
        "      \"<parameter_1>\": <value_1>,\n",
        "      \"<parameter_2>\": <value_2>,\n",
        "      ...\n",
        "    }\n",
        "  }\n",
        "}\n",
        "```\n",
        "\n",
        "### Option 2: Provide a Final Answer\n",
        "If the request can be fully handled without calling a function, return a final answer in this format:\n",
        "\n",
        "```json\n",
        "{\n",
        "  \"final_answer\": \"<your response to the user in natural language>\"\n",
        "}\n",
        "```\n",
        "Do not mix both formats. Choose one based on what is appropriate for the task. Do not add explanations or extra content outside the chosen JSON format.\n",
        "\"\"\"\n",
        "\n",
        "# The input contains the user's request\n",
        "INPUT = \"\"\"\n",
        "Schedule a meeting between \"Ali\" (customer_id = 223) and one of our managers sometime tomorrow:\n",
        "- Mohammad : user_id = 239\n",
        "- Soufiane : user_id = 332\n",
        "- Amine : user_id = 321\n",
        "\"\"\"\n",
        "\n",
        "# Will contain the execution\n",
        "INFO = \"\"\"\"\"\"\n",
        "\n",
        "# The generated prompt\n",
        "prompt_template = \"\"\"\n",
        "You are an intelligent assistant that can use external tools (functions) to help perform actions. You are provided with the following functions:\n",
        "\n",
        "FUNCTIONS:\n",
        "{TOOLS}\n",
        "\n",
        "INSTRUCTIONS:\n",
        "{INSTRUCTIONS}\n",
        "\n",
        "INFO:\n",
        "{INFO}\n",
        "\n",
        "INPUT:\n",
        "{INPUT}\n",
        "\"\"\""
      ]
    },
    {
      "cell_type": "markdown",
      "metadata": {
        "id": "WxfxkD9bLv4H"
      },
      "source": [
        "### 1.1.c Start the function calling"
      ]
    },
    {
      "cell_type": "code",
      "execution_count": null,
      "metadata": {
        "id": "zeG3kpZPLv4I",
        "outputId": "f6d31879-dc21-435a-dbc3-0079647742f8",
        "colab": {
          "base_uri": "https://localhost:8080/"
        }
      },
      "outputs": [
        {
          "output_type": "stream",
          "name": "stdout",
          "text": [
            "\u001b[1mRequest cost: \u001b[94m0.0012 $\u001b[0m\n"
          ]
        }
      ],
      "source": [
        "response = client.responses.create(\n",
        "  model=\"gpt-4.1-2025-04-14\",\n",
        "  input=[{\n",
        "      \"role\": \"user\",\n",
        "      \"content\": prompt_template.format(TOOLS=TOOLS, INSTRUCTIONS=INSTRUCTIONS, INFO=INFO, INPUT=INPUT)\n",
        "  }]\n",
        ")\n",
        "estimate_cost(response, input_token_cost=2, output_token_cost=8)\n"
      ]
    },
    {
      "cell_type": "code",
      "execution_count": null,
      "metadata": {
        "id": "L-XULappLv4I",
        "outputId": "74ccb586-b8d3-4425-e5c4-48de388b7aac",
        "colab": {
          "base_uri": "https://localhost:8080/"
        }
      },
      "outputs": [
        {
          "output_type": "execute_result",
          "data": {
            "text/plain": [
              "{'function_call': {'name': 'get_calendar', 'arguments': {'user_id': 239}}}"
            ]
          },
          "metadata": {},
          "execution_count": 9
        }
      ],
      "source": [
        "json_answer = extract_info_from_response(response)\n",
        "json_answer"
      ]
    },
    {
      "cell_type": "markdown",
      "metadata": {
        "id": "aK4hAZWRLv4I"
      },
      "source": [
        "As you can see, now the LLM asked us to provide more information. Lets provide it with the information it asked for."
      ]
    },
    {
      "cell_type": "code",
      "execution_count": null,
      "metadata": {
        "id": "zhBN7I6GLv4I",
        "outputId": "98818ee2-fc42-40eb-8f4e-cae9db75d7ce",
        "colab": {
          "base_uri": "https://localhost:8080/"
        }
      },
      "outputs": [
        {
          "output_type": "stream",
          "name": "stdout",
          "text": [
            "\n",
            "get_calendar({'user_id': 239}) = {'Today': {'09:00-10:00': 'Meeting with Client', '10:00-16:00': 'Work on Project', '16:00-17:00': 'Call with Team'}, 'Tomorrow': {'09:00-16:00': 'Work on Project', '16:00-17:00': 'Call with Team'}}\n",
            "\n"
          ]
        }
      ],
      "source": [
        "tools_answer = available_tools[json_answer[\"function_call\"][\"name\"]](\n",
        "    **json_answer[\"function_call\"][\"arguments\"]\n",
        ")\n",
        "INFO += f\"\"\"\n",
        "{json_answer[\"function_call\"][\"name\"]}({json_answer[\"function_call\"][\"arguments\"]}) = {tools_answer}\n",
        "\"\"\"\n",
        "print(INFO)"
      ]
    },
    {
      "cell_type": "code",
      "execution_count": null,
      "metadata": {
        "id": "RwHdo84jLv4I",
        "outputId": "599cd5d0-f725-4d9b-9973-afa824fb88f5",
        "colab": {
          "base_uri": "https://localhost:8080/"
        }
      },
      "outputs": [
        {
          "output_type": "stream",
          "name": "stdout",
          "text": [
            "\u001b[1mRequest cost: \u001b[94m0.0013 $\u001b[0m\n"
          ]
        }
      ],
      "source": [
        "response = client.responses.create(\n",
        "  model=\"gpt-4.1-2025-04-14\",\n",
        "  input=[{\n",
        "      \"role\": \"user\",\n",
        "      \"content\": prompt_template.format(TOOLS=TOOLS, INSTRUCTIONS=INSTRUCTIONS, INFO=INFO, INPUT=INPUT)\n",
        "  }]\n",
        ")\n",
        "estimate_cost(response, input_token_cost=2, output_token_cost=8)"
      ]
    },
    {
      "cell_type": "code",
      "execution_count": null,
      "metadata": {
        "id": "uPeTOFcrLv4I",
        "outputId": "35b1d6c1-5f85-4b1d-eea0-ca8819934baa",
        "colab": {
          "base_uri": "https://localhost:8080/"
        }
      },
      "outputs": [
        {
          "output_type": "execute_result",
          "data": {
            "text/plain": [
              "{'function_call': {'name': 'get_calendar', 'arguments': {'user_id': 332}}}"
            ]
          },
          "metadata": {},
          "execution_count": 12
        }
      ],
      "source": [
        "json_answer = extract_info_from_response(response)\n",
        "json_answer"
      ]
    },
    {
      "cell_type": "markdown",
      "metadata": {
        "id": "1TjfHwmmLv4K"
      },
      "source": [
        "### 1.1.d Master the function calling with loops"
      ]
    },
    {
      "cell_type": "markdown",
      "metadata": {
        "id": "C-qlfnefLv4L"
      },
      "source": [
        "We will continously prompt the LLM until we reach a final response."
      ]
    },
    {
      "cell_type": "code",
      "execution_count": null,
      "metadata": {
        "id": "ukQbMWGDLv4L"
      },
      "outputs": [],
      "source": [
        "class Assitant:\n",
        "    def __init__(self,\n",
        "                 tools=TOOLS,\n",
        "                 instructions=INSTRUCTIONS,\n",
        "                 input=INPUT,\n",
        "                 prompt_template=prompt_template,\n",
        "                 available_tools=available_tools,\n",
        "                 model=\"gpt-4.1-2025-04-14\",\n",
        "                 model_input_token_cost=2,\n",
        "                 model_output_token_cost=8,\n",
        "                 max_steps=15,\n",
        "                 client=client,\n",
        "                 verbose=False,\n",
        "        ):\n",
        "        self.tools = tools\n",
        "        self.instructions = instructions\n",
        "        self.input = input\n",
        "        self.prompt_template = prompt_template\n",
        "        self.available_tools = available_tools\n",
        "        self.model = model\n",
        "        self.model_input_token_cost = model_input_token_cost\n",
        "        self.model_output_token_cost = model_output_token_cost\n",
        "        self.max_steps = max_steps\n",
        "        self.client = client\n",
        "        self.verbose = verbose\n",
        "        self.info = \"\"\n",
        "        self.total_cost = 0\n",
        "\n",
        "    def _estimate_cost(self, response):\n",
        "        \"\"\"\n",
        "        This function estimates the cost of a request.\n",
        "        :param response: The response from the model.\n",
        "        :return: The total cost of the request.\n",
        "        \"\"\"\n",
        "        self.total_cost += (response.usage.input_tokens / 1_000_000) * self.model_input_token_cost\n",
        "        self.total_cost += (response.usage.output_tokens / 1_000_000) * self.model_output_token_cost\n",
        "        return self.total_cost\n",
        "\n",
        "    def _step(self):\n",
        "        response = self.client.responses.create(\n",
        "          model=self.model,\n",
        "          input=[{\n",
        "              \"role\": \"user\",\n",
        "              \"content\": self.prompt_template.format(TOOLS=self.tools, INSTRUCTIONS=self.instructions, INFO=self.info, INPUT=self.input)\n",
        "          }]\n",
        "        )\n",
        "        self._estimate_cost(response)\n",
        "        json_answer = extract_info_from_response(response)\n",
        "        tools_answer = self.available_tools[json_answer[\"function_call\"][\"name\"]](\n",
        "            **json_answer[\"function_call\"][\"arguments\"]\n",
        "        )\n",
        "        self.info += f\"\"\"\n",
        "{json_answer[\"function_call\"][\"name\"]}({json_answer[\"function_call\"][\"arguments\"]}) = {tools_answer}\n",
        "\"\"\"\n",
        "        if self.verbose:\n",
        "            print(self.info)\n",
        "        return json_answer\n",
        "\n",
        "    def stop_condition(self, json_answer):\n",
        "        \"\"\"\n",
        "        The stop condition for the assistant.\n",
        "        When the the function \"schedule_meeting\" is called or when the final answer is provided.\n",
        "        \"\"\"\n",
        "        if \"final_answer\" in json_answer:       # The final answer, could be a message of impossibility or a confirmation.\n",
        "            return True\n",
        "        if json_answer[\"function_call\"][\"name\"] == \"schedule_meeting\":  # When the meeting is scheduled\n",
        "            return True\n",
        "        return False\n",
        "\n",
        "    def run(self):\n",
        "        \"\"\"\n",
        "        This function runs the assistant until it reaches a stop condition or the maximum number of steps.\n",
        "        :return: The final answer from the assistant.\n",
        "        \"\"\"\n",
        "        for step in range(self.max_steps):\n",
        "            json_answer = self._step()\n",
        "            if self.stop_condition(json_answer):\n",
        "                break\n",
        "        return self.info, self.total_cost, step"
      ]
    },
    {
      "cell_type": "markdown",
      "metadata": {
        "id": "jCs4q8lMLv4R"
      },
      "source": [
        "Let's put it in action for now. It should be indicating that the meeting have been scheduled with the user 332"
      ]
    },
    {
      "cell_type": "code",
      "execution_count": null,
      "metadata": {
        "id": "tc0ZTyW6Lv4R",
        "outputId": "23842a3d-9f93-4aa7-c37e-d21feef0297a",
        "colab": {
          "base_uri": "https://localhost:8080/"
        }
      },
      "outputs": [
        {
          "output_type": "stream",
          "name": "stdout",
          "text": [
            "Meeting scheduled for user 332 with customer 223 from 2024-06-14T10:00:00 to 2024-06-14T11:00:00.\n",
            "Total cost: 0.0061 $\n",
            "Total steps: 3\n",
            "--------------------------------------------------------------------------------------------------------------------------------------------------------------------------------------------------------\n",
            "INFO :\n",
            "\n",
            "get_calendar({'user_id': 239}) = {'Today': {'09:00-10:00': 'Meeting with Client', '10:00-16:00': 'Work on Project', '16:00-17:00': 'Call with Team'}, 'Tomorrow': {'09:00-16:00': 'Work on Project', '16:00-17:00': 'Call with Team'}}\n",
            "\n",
            "get_calendar({'user_id': 332}) = {'Today': {'09:00-10:00': 'Meeting with Client', '10:00-16:00': 'Work on Project', '16:00-17:00': 'Call with Team'}, 'Tomorrow': {'10:00-11:00': 'Free for meetings', '14:00-16:00': 'Work on Project', '16:00-17:00': 'Call with Team'}}\n",
            "\n",
            "get_calendar({'user_id': 321}) = {'Today': {'09:00-10:00': 'Meeting with Client', '10:00-16:00': 'Work on Project', '16:00-17:00': 'Call with Team'}, 'Tomorrow': {'09:00-16:00': 'Work on Project', '16:00-17:00': 'Call with Team'}}\n",
            "\n",
            "schedule_meeting({'user_id': 332, 'customer_id': 223, 'start_time': '2024-06-14T10:00:00', 'end_time': '2024-06-14T11:00:00'}) = True\n",
            "\n"
          ]
        }
      ],
      "source": [
        "assitant = Assitant(verbose=False)\n",
        "info, total_cost, steps = assitant.run()\n",
        "print(f\"Total cost: {total_cost:.4f} $\")\n",
        "print(f\"Total steps: {steps}\")\n",
        "print(\"--\"*100)\n",
        "print(\"INFO :\")\n",
        "print(info)"
      ]
    },
    {
      "cell_type": "markdown",
      "metadata": {
        "id": "oqYUv3AkLv4S"
      },
      "source": [
        "## 1.2. Provider Specific Function Calling"
      ]
    },
    {
      "cell_type": "markdown",
      "metadata": {
        "id": "e0vNppdSLv4S"
      },
      "source": [
        "### 1.2.1. OpenAI Function Calling"
      ]
    },
    {
      "cell_type": "markdown",
      "metadata": {
        "id": "DRth3WJSLv4S"
      },
      "source": [
        "First of all, if we want to use OpenAI python library, we need to install it. We can do this by running the following command in our terminal:\n",
        "\n",
        "```bash\n",
        "pip install openai\n",
        "```\n",
        "\n",
        "Or simply running the next cell in this notebook:\n",
        "- `%pip install openai` : install openai for the active python kernel\n",
        "- `-q` : quiet mode, suppresses output"
      ]
    },
    {
      "cell_type": "code",
      "execution_count": null,
      "metadata": {
        "id": "VCJHHXSOLv4S"
      },
      "outputs": [],
      "source": [
        "%pip install openai python-dotenv -q"
      ]
    },
    {
      "cell_type": "markdown",
      "metadata": {
        "id": "VlmcFZR3Lv4S"
      },
      "source": [
        "First lets initialize our libraries"
      ]
    },
    {
      "cell_type": "code",
      "execution_count": null,
      "metadata": {
        "id": "Pg1h15qvLv4T",
        "outputId": "ea9a833d-b1d3-49d0-be58-a5b922ac5c47",
        "colab": {
          "base_uri": "https://localhost:8080/"
        }
      },
      "outputs": [
        {
          "output_type": "execute_result",
          "data": {
            "text/plain": [
              "False"
            ]
          },
          "metadata": {},
          "execution_count": 16
        }
      ],
      "source": [
        "import os\n",
        "\n",
        "from dotenv import load_dotenv\n",
        "from openai import OpenAI\n",
        "\n",
        "load_dotenv()                                   # This loads the environment variables. Make sure to have a .env file with your OpenAI API key."
      ]
    },
    {
      "cell_type": "code",
      "execution_count": null,
      "metadata": {
        "id": "-olLibG1Lv4T",
        "outputId": "66d5718c-a7e4-4424-f1d0-df43ae60edd0",
        "colab": {
          "base_uri": "https://localhost:8080/"
        }
      },
      "outputs": [
        {
          "name": "stdout",
          "output_type": "stream",
          "text": [
            "OpenAI API key not found in environment variables. Please set it in a .env file.\n",
            "Enter your OpenAI API key: ··········\n"
          ]
        }
      ],
      "source": [
        "if os.getenv(\"OPENAI_API_KEY\"):\n",
        "    print(\"OpenAI API key found in environment variables.\")\n",
        "    OPENAI_API_KEY = os.getenv(\"OPENAI_API_KEY\")\n",
        "else :\n",
        "    print(\"OpenAI API key not found in environment variables. Please set it in a .env file.\")\n",
        "    OPENAI_API_KEY = getpass(\"Enter your OpenAI API key: \")\n",
        "client = OpenAI(api_key=OPENAI_API_KEY)"
      ]
    },
    {
      "cell_type": "code",
      "execution_count": null,
      "metadata": {
        "id": "oOKCXMvpLv4T",
        "outputId": "47331b48-a4cb-41e4-95a8-28a125777598",
        "colab": {
          "base_uri": "https://localhost:8080/"
        }
      },
      "outputs": [
        {
          "output_type": "stream",
          "name": "stdout",
          "text": [
            "[ResponseFunctionToolCall(arguments='{\"location\":\"Paris, France\"}', call_id='call_6iok1nP09tmGTDFa8R56EZoz', name='get_weather', type='function_call', id='fc_686a087a8cdc81a28314f969f1780bc70628cd2afe26ab18', status='completed')]\n"
          ]
        }
      ],
      "source": [
        "tools = [{\n",
        "    \"type\": \"function\",\n",
        "    \"name\": \"get_weather\",\n",
        "    \"description\": \"Get current temperature for a given location.\",\n",
        "    \"parameters\": {\n",
        "        \"type\": \"object\",\n",
        "        \"properties\": {\n",
        "            \"location\": {\n",
        "                \"type\": \"string\",\n",
        "                \"description\": \"City and country e.g. Bogotá, Colombia\"\n",
        "            }\n",
        "        },\n",
        "        \"required\": [\n",
        "            \"location\"\n",
        "        ],\n",
        "        \"additionalProperties\": False\n",
        "    }\n",
        "}]\n",
        "\n",
        "response = client.responses.create(\n",
        "    model=\"gpt-4.1-2025-04-14\",\n",
        "    input=[{\"role\": \"user\", \"content\": \"What is the weather like in Paris today?\"}],\n",
        "    tools=tools\n",
        ")\n",
        "\n",
        "print(response.output)"
      ]
    },
    {
      "cell_type": "markdown",
      "metadata": {
        "id": "0YIfkTiyLv4T"
      },
      "source": [
        "#### Estimation of the cost. Reasoning and Caching is not taken into account."
      ]
    },
    {
      "cell_type": "code",
      "execution_count": null,
      "metadata": {
        "id": "-YHBiMEyLv4U",
        "outputId": "3e480f88-f209-4943-833e-027fae7e4a0f",
        "colab": {
          "base_uri": "https://localhost:8080/"
        }
      },
      "outputs": [
        {
          "output_type": "stream",
          "name": "stdout",
          "text": [
            "\u001b[1mRequest cost: \u001b[94m0.0001 $\u001b[0m\n"
          ]
        }
      ],
      "source": [
        "total_cost = 0\n",
        "\n",
        "# Add input tokens cost\n",
        "PER_MILLION_INPUT_TOKENS = 1.1      # 1.1 USD per million input tokens\n",
        "total_cost += (response.usage.input_tokens / 1_000_000) * PER_MILLION_INPUT_TOKENS\n",
        "# Add output tokens cost\n",
        "PER_MILLION_OUTPUT_TOKENS = 4.4      # 4.4 USD per million output tokens\n",
        "total_cost += (response.usage.output_tokens / 1_000_000) * PER_MILLION_OUTPUT_TOKENS\n",
        "\n",
        "# print(f\"Request cost: ${total_cost:.4f}\")\n",
        "print(f\"\\033[1mRequest cost: \\033[94m{total_cost:.4f} $\\033[0m\")"
      ]
    },
    {
      "cell_type": "code",
      "execution_count": null,
      "metadata": {
        "id": "ULQ-tBx0Lv4U",
        "outputId": "f4cda708-693b-4f2b-9de2-6627dc1c534b",
        "colab": {
          "base_uri": "https://localhost:8080/"
        }
      },
      "outputs": [
        {
          "output_type": "execute_result",
          "data": {
            "text/plain": [
              "ResponseUsage(input_tokens=59, input_tokens_details=InputTokensDetails(cached_tokens=0), output_tokens=17, output_tokens_details=OutputTokensDetails(reasoning_tokens=0), total_tokens=76)"
            ]
          },
          "metadata": {},
          "execution_count": 20
        }
      ],
      "source": [
        "response.usage"
      ]
    },
    {
      "cell_type": "markdown",
      "metadata": {
        "id": "ZvnNZwZ3Lv4U"
      },
      "source": [
        "Now as you can see, we can simply repeat the same logic as before, but this time we will use the OpenAI function calling API. It is always helpful to create a specific class for the function calling or for each use case. FOr OpenAI, we recommend to follow the [OpenAI documentation for Function Calling](https://platform.openai.com/docs/guides/function-calling).\n",
        "\n",
        "The interest of using the Provider Specific Function Calling is that it is more efficient (cheaper) and it is more reliable. It is also more flexible as it allows you to define the function signature and the parameters that the LLM can use."
      ]
    },
    {
      "cell_type": "markdown",
      "metadata": {
        "id": "xu4K9aMrLv4U"
      },
      "source": [
        "# TODO :\n",
        "Now you have learned the basics of function calling and how to use OpenAI API. Now create a class like the ``Assitant`` class above to create a weather assistant app. You can create multiple functions like ``get_current_weather``, ``get_forecast``, ``get_air_quality``, etc. and use the OpenAI function calling API to call them. You can also use the OpenAI function calling API to call external APIs like OpenWeatherMap or WeatherAPI. The user should be able to ask for whether to go eat outside or not, to swim or not, etc."
      ]
    },
    {
      "cell_type": "markdown",
      "metadata": {
        "id": "htvrDOgILv4V"
      },
      "source": [
        "# 1.3. Conclusion"
      ]
    },
    {
      "cell_type": "markdown",
      "metadata": {
        "id": "_GCeWKgLLv4V"
      },
      "source": [
        "Function Calling is independent of the LLM provider, it is even possible to use multiple providers mixed with some private or on-premise LLMs. However, it is more efficient and reliable to use the provider's specific function calling API."
      ]
    }
  ]
}